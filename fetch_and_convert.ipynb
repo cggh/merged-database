{
 "cells": [
  {
   "cell_type": "markdown",
   "source": [
    "We convert the FTP links to something which can be imported by the observatory DB\n",
    "First samples:"
   ],
   "metadata": {
    "collapsed": false,
    "pycharm": {
     "name": "#%% md\n"
    }
   }
  },
  {
   "cell_type": "code",
   "execution_count": 11,
   "metadata": {
    "collapsed": true,
    "pycharm": {
     "is_executing": false
    }
   },
   "outputs": [],
   "source": [
    "import pandas as pd\n",
    "\n",
    "samples = pd.read_csv(\"ftp://ngs.sanger.ac.uk/production/malaria/pfcommunityproject/Pf6/Pf_6_samples.txt\", delimiter='\\t')\n",
    "samples = samples.rename(columns={'Sample': 'sample_id',\n",
    "    'Study': 'study_id',\n",
    "    'Site': 'site_id',\n",
    "    'Year': 'year',\n",
    "    'ENA': 'run_accessions',\n",
    "    'Population': 'region_id',\n",
    "    '% callable': '%_genome_callable',\n",
    "    'QC pass': 'QC_pass'})\n",
    "samples = samples.drop(columns=['Exclusion reason',\n",
    "    'Is returning traveller',\n",
    "    'Country',\n",
    "    'Lat',\n",
    "    'Long',\n",
    "    'All samples same individual'])\n",
    "samples.to_csv('samples.csv', index=False)"
   ]
  },
  {
   "cell_type": "markdown",
   "source": [
    "Then phenotype calls:"
   ],
   "metadata": {
    "collapsed": false,
    "pycharm": {
     "name": "#%% md\n"
    }
   }
  },
  {
   "cell_type": "code",
   "execution_count": 26,
   "outputs": [
    {
     "name": "stderr",
     "text": [
      "/home/benj/projects/merged_database/env/lib/python3.5/site-packages/ipykernel_launcher.py:22: DeprecationWarning: \n.ix is deprecated. Please use\n.loc for label based indexing or\n.iloc for positional indexing\n\nSee the documentation here:\nhttp://pandas.pydata.org/pandas-docs/stable/indexing.html#ix-indexer-is-deprecated\n/home/benj/projects/merged_database/env/lib/python3.5/site-packages/ipykernel_launcher.py:23: DeprecationWarning: \n.ix is deprecated. Please use\n.loc for label based indexing or\n.iloc for positional indexing\n\nSee the documentation here:\nhttp://pandas.pydata.org/pandas-docs/stable/indexing.html#ix-indexer-is-deprecated\n"
     ],
     "output_type": "stream"
    }
   ],
   "source": [
    "sampletypes = pd.read_csv('ftp://ngs.sanger.ac.uk/production/malaria/pfcommunityproject/Pf6/Pf_6_inferred_resistance_status_classification.txt', delimiter='\\t')\n",
    "sampletypes = sampletypes.rename(columns={\n",
    "    'Sample': 'sample_id',\n",
    "    'Chloroquine': 'CQresistant',\n",
    "    'Pyrimethamine': 'PYRresistant',\n",
    "    'Sulfadoxine':'SDXresistant',\n",
    "    'Mefloquine':'MQresistant',\n",
    "    'Artemisinin':'ARTresistant',\n",
    "    'Piperaquine':'PPQresistant',\n",
    "    'SP (uncomplicated)':'SPresistant',\n",
    "    'SP (IPTp)':'SPIPTpresistant',\n",
    "    'AS-MQ':'ASMQresistant',\n",
    "    'DHA-PPQ':'DHAPPQresistant',\n",
    "    'HRP2':'HRP2deletion',\n",
    "    'HRP3':'HRP3deletion',\n",
    "    'HRP2 and HRP3':'HRP23deletion',\n",
    "})\n",
    "original_ids = sampletypes['sample_id']\n",
    "sampletypes = sampletypes.applymap(str.lower)\n",
    "sampletypes['sample_id'] = original_ids\n",
    "sampletypes = sampletypes.melt(id_vars=['sample_id'], var_name='feature_id', value_name='type_id')\n",
    "sampletypes.ix[:len(sampletypes)/2].to_csv('sampletypes1.csv', index=False)\n",
    "sampletypes.ix[(len(sampletypes)/2)+1:].to_csv('sampletypes2.csv', index=False)"
   ],
   "metadata": {
    "collapsed": false,
    "pycharm": {
     "name": "#%%\n",
     "is_executing": false
    }
   }
  },
  {
   "cell_type": "markdown",
   "source": [
    "These can then be uploaded to the postgresDB"
   ],
   "metadata": {
    "collapsed": false,
    "pycharm": {
     "name": "#%% md\n"
    }
   }
  }
 ],
 "metadata": {
  "kernelspec": {
   "display_name": "Python 3",
   "language": "python",
   "name": "python3"
  },
  "language_info": {
   "codemirror_mode": {
    "name": "ipython",
    "version": 2
   },
   "file_extension": ".py",
   "mimetype": "text/x-python",
   "name": "python",
   "nbconvert_exporter": "python",
   "pygments_lexer": "ipython2",
   "version": "2.7.6"
  },
  "pycharm": {
   "stem_cell": {
    "cell_type": "raw",
    "source": [],
    "metadata": {
     "collapsed": false
    }
   }
  }
 },
 "nbformat": 4,
 "nbformat_minor": 0
}